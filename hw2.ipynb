{
 "nbformat": 4,
 "nbformat_minor": 0,
 "metadata": {
  "colab": {
   "provenance": []
  },
  "kernelspec": {
   "name": "python3",
   "display_name": "Python 3"
  },
  "language_info": {
   "name": "python"
  }
 },
 "cells": [
  {
   "cell_type": "markdown",
   "metadata": {
    "id": "-IokSwmzWmha"
   },
   "source": [
    "## Домашняя работа #2.\n",
    "Эта домашка про Фурье и немного про простейшие фильтры.\n",
    "\n",
    "**Soft deadline: 02.03.2023 03:00:00 +0003 GMT**\n",
    "\n",
    "**Hard deadline: 09.03.2023 03:00:00 +0003 GMT**"
   ]
  },
  {
   "cell_type": "markdown",
   "metadata": {
    "id": "hydK2VzcodGv"
   },
   "source": [
    "Ссылка на материалы: https://drive.google.com/drive/folders/1ZHo9MpdaOS1Qwc_F342wTByJNX0eHKmN?usp=sharing"
   ]
  },
  {
   "cell_type": "code",
   "metadata": {
    "colab": {
     "base_uri": "https://localhost:8080/"
    },
    "id": "RPiZzYu9ozib",
    "outputId": "28e92ef3-fe0d-4196-8dc0-b17af0d07fd9"
   },
   "source": [
    "# ПРИМОНТИРУЙТЕ ДИСК К НОУТБУКУ\n",
    "from google.colab import drive\n",
    "drive.mount('/content/drive')\n",
    "\n",
    "\n",
    "import numpy as np\n",
    "import cv2 as cv\n",
    "import copy"
   ],
   "execution_count": 1,
   "outputs": [
    {
     "ename": "ModuleNotFoundError",
     "evalue": "No module named 'google.colab'",
     "output_type": "error",
     "traceback": [
      "\u001B[0;31m---------------------------------------------------------------------------\u001B[0m",
      "\u001B[0;31mModuleNotFoundError\u001B[0m                       Traceback (most recent call last)",
      "Input \u001B[0;32mIn [1]\u001B[0m, in \u001B[0;36m<cell line: 2>\u001B[0;34m()\u001B[0m\n\u001B[1;32m      1\u001B[0m \u001B[38;5;66;03m# ПРИМОНТИРУЙТЕ ДИСК К НОУТБУКУ\u001B[39;00m\n\u001B[0;32m----> 2\u001B[0m \u001B[38;5;28;01mfrom\u001B[39;00m \u001B[38;5;21;01mgoogle\u001B[39;00m\u001B[38;5;21;01m.\u001B[39;00m\u001B[38;5;21;01mcolab\u001B[39;00m \u001B[38;5;28;01mimport\u001B[39;00m drive\n\u001B[1;32m      3\u001B[0m drive\u001B[38;5;241m.\u001B[39mmount(\u001B[38;5;124m'\u001B[39m\u001B[38;5;124m/content/drive\u001B[39m\u001B[38;5;124m'\u001B[39m)\n\u001B[1;32m      6\u001B[0m \u001B[38;5;28;01mimport\u001B[39;00m \u001B[38;5;21;01mnumpy\u001B[39;00m \u001B[38;5;28;01mas\u001B[39;00m \u001B[38;5;21;01mnp\u001B[39;00m\n",
      "\u001B[0;31mModuleNotFoundError\u001B[0m: No module named 'google.colab'"
     ]
    }
   ]
  },
  {
   "cell_type": "code",
   "metadata": {
    "id": "ITSRTHASo-aX"
   },
   "source": [
    "from pathlib import Path\n",
    "import os\n",
    "# ИЗМЕНИТЕ ЭТОТ ПУТЬ НА ТОТ, КУДА ВЫ ПОЛОЖИЛИ МАТЕРИАЛЫ КУРСА\n",
    "sources_path = Path(\"/content/drive/MyDrive/Материалы/\") "
   ],
   "execution_count": null,
   "outputs": []
  },
  {
   "cell_type": "code",
   "metadata": {
    "colab": {
     "base_uri": "https://localhost:8080/",
     "height": 536
    },
    "id": "eNoqt1LQWuX-",
    "outputId": "917c8e0b-8256-4d5d-b50b-bd0e7cf5c99d"
   },
   "source": [
    "import cv2\n",
    "import numpy as np\n",
    "import matplotlib.pylab as plt\n",
    "%matplotlib inline\n",
    "plt.style.use('default')\n",
    "\n",
    "def pyplot(func):\n",
    "    def make_pyplot_context(*args, **kwargs):\n",
    "        plt.figure(figsize=(10, 5))\n",
    "        ax = plt.axes([0,0,1,1], frameon=False)\n",
    "        ax.set_axis_off()\n",
    "        return func(*args, **kwargs)\n",
    "    return make_pyplot_context\n",
    "\n",
    "@pyplot\n",
    "def show_bgr(img):\n",
    "    plt.imshow(cv2.cvtColor(img, cv2.COLOR_BGR2RGB))\n",
    "\n",
    "@pyplot\n",
    "def show_gray(img):\n",
    "    plt.imshow(img, cmap='gray')\n",
    "\n",
    "def mse(img1, img2):\n",
    "    return ((img1.astype(int) - img2.astype(int)) ** 2).mean()\n",
    "\n",
    "lena = cv2.imread(str(sources_path / \"lena.jpg\"))\n",
    "show_bgr(lena)\n",
    "\n"
   ],
   "execution_count": null,
   "outputs": []
  },
  {
   "cell_type": "markdown",
   "metadata": {
    "id": "sUhfqJlbbnVl"
   },
   "source": [
    "**1. (5 баллов)**\n",
    "\n",
    "Загрузите изображение $lena.jpg$ (512х512). Переведите изображение в градации серого. Произведите фильтрацию данного изображения в частотной области идеальным фильтром низких частот (фильтр, обрезающий все высокочастотные составляющие Фурье-образа, находящиеся на большем расстоянии от начала координат, чем некоторое заданное расстояние $D$), идеальным фильтром высоких частот (фильтр, обрезающий все низкокочастотные составляющие Фурье-образа, находящиеся на меньшем расстоянии от начала координат, чем некоторое заданное расстояние $D$) со следующими значениями радиуса фильтров:\n",
    "1. 5\n",
    "2. 15\n",
    "3. 30\n",
    "4. 255\n",
    "\n",
    "Для каждого фильтра постройте состыкованное изображение из следующих: исходное изображение в градациях серого, изображение Фурье-спектра (после логарифмической коррекции для лучшей визуализации), изображение Фурье-спектра после фильтрации, изображение в пространственной области после фильтрации. На выходе должно получиться 8 изображений (4 параметра фильтров х 2 типа фильтров). Функции, которые Вам потребуются: $dft$, $mulSpectrums$, $idft$."
   ]
  },
  {
   "cell_type": "code",
   "source": [
    "img = copy.copy(lena)\n",
    "img = cv.cvtColor(img, cv.COLOR_BGR2GRAY)\n",
    "\n",
    "img_fft = np.fft.fft2(np.float32(img))\n",
    "img_fft_s = np.fft.fftshift(img_fft)\n",
    "mag = 20 * np.log(np.abs(img_fft_s))\n",
    "\n",
    "img_pos = []\n",
    "for i in range(1, 33):\n",
    "  img_pos.append((8,4, i))\n",
    "\n",
    "rows = 2\n",
    "img_pos = np.arange(1, 33)\n",
    "D = [5, 15, 30, 255]\n",
    "plt.figure(figsize=(10, 10))\n",
    "\n",
    "for _ in range(4):\n",
    "  lf_mask = cv2.circle(np.ones((img_fft_s.shape[0], img_fft_s.shape[1])), (img_fft_s.shape[0] // 2, img_fft_s.shape[1] // 2), D[_], (0, 0, 0), -1)\n",
    "  hf_mask = cv2.circle(np.zeros((img_fft_s.shape[0], img_fft_s.shape[1])), (img_fft_s.shape[0] // 2, img_fft_s.shape[1] // 2), D[_], (255, 255 ,255), -1)\n",
    "\n",
    "  lf_img_fft_masked_mag = 20 * np.log(np.abs(img_fft_s * lf_mask) + 1e-3)\n",
    "  lf_img_fft_masked = np.fft.ifftshift(img_fft_s * lf_mask)\n",
    "  lf_img_masked = np.fft.ifft2(lf_img_fft_masked)\n",
    "  lf_img_masked = np.abs(lf_img_masked)\n",
    "\n",
    "\n",
    "  hf_img_fft_masked_mag = 20 * np.log(np.abs(img_fft_s * hf_mask) + 1e-3)\n",
    "  hf_img_fft_masked = np.fft.ifftshift(img_fft_s * hf_mask)\n",
    "  hf_img_masked = np.fft.ifft2(hf_img_fft_masked)\n",
    "  hf_img_masked = np.abs(hf_img_masked)\n",
    "\n",
    "  plt.subplot(8, 4, img_pos[0 + _ * 8]), plt.imshow(img, cmap = 'gray')\n",
    "  plt.subplot(8, 4, img_pos[1 + _ * 8]), plt.imshow(mag, cmap = 'gray')\n",
    "  plt.subplot(8, 4, img_pos[2 + _ * 8]), plt.imshow(lf_img_fft_masked_mag, cmap = 'gray')\n",
    "  plt.subplot(8, 4, img_pos[3 + _ * 8]), plt.imshow(lf_img_masked, cmap = 'gray')\n",
    "  plt.subplot(8, 4, img_pos[4 + _ * 8]), plt.imshow(img, cmap = 'gray')\n",
    "  plt.subplot(8, 4, img_pos[5 + _ * 8]), plt.imshow(mag, cmap = 'gray')\n",
    "  plt.subplot(8, 4, img_pos[6 + _ * 8]), plt.imshow(hf_img_fft_masked_mag, cmap = 'gray')\n",
    "  plt.subplot(8, 4, img_pos[7 + _ * 8]), plt.imshow(hf_img_masked, cmap = 'gray')"
   ],
   "metadata": {
    "colab": {
     "base_uri": "https://localhost:8080/",
     "height": 836
    },
    "id": "iuaJ0V2coR8k",
    "outputId": "3ed139b9-0545-4b87-b495-03ae1c8aae88"
   },
   "execution_count": null,
   "outputs": []
  },
  {
   "cell_type": "markdown",
   "metadata": {
    "id": "Dt7XNWiCcHyr"
   },
   "source": [
    "**2. (5 баллов)**\n",
    "\n",
    "Удалите диагональные полоски с изображения $lena\\_diagonal.jpg$. Вычислите среднеквадратичную ошибку (mean squared error, $MSE$, \\url{http://en.wikipedia.org/wiki/Mean_squared_error}) для полученного результата и изображения $lena\\_gray\\_512.tif$. Задача будет засчитана при $MSE < 1500$."
   ]
  },
  {
   "cell_type": "code",
   "metadata": {
    "colab": {
     "base_uri": "https://localhost:8080/",
     "height": 387
    },
    "id": "sctbBTnTcWVB",
    "outputId": "2fd11db9-4b27-47a9-b0e2-13652b67397b"
   },
   "source": [
    "lena_diag = cv2.imread(str(sources_path / \"lena_diagonal.jpg\"), 0)\n",
    "lena_gray_fix = cv2.imread(str(sources_path / \"lena_gray_512.tif\"), 0)\n",
    "print(mse(lena_diag, lena_gray_fix))\n",
    "show_gray(np.hstack([lena_diag.astype(int), lena_gray_fix.astype(int), np.abs(lena_diag.astype(int) - lena_gray_fix.astype(int))]))"
   ],
   "execution_count": null,
   "outputs": []
  },
  {
   "cell_type": "code",
   "source": [
    "img = copy.copy(lena)\n",
    "img = cv.cvtColor(img, cv.COLOR_BGR2GRAY)\n",
    "\n",
    "show_gray(img)"
   ],
   "metadata": {
    "colab": {
     "base_uri": "https://localhost:8080/",
     "height": 536
    },
    "id": "nWZETssSjYfq",
    "outputId": "0048f46c-d160-4f47-fd4e-037aafdae112"
   },
   "execution_count": null,
   "outputs": []
  },
  {
   "cell_type": "code",
   "source": [
    "plt.figure(figsize=(10, 10))\n",
    "\n",
    "lena2 = copy.copy(lena_diag)\n",
    "plt.subplot(321), plt.imshow(lena2, 'gray')\n",
    "\n",
    "img_fft = np.fft.fft2(lena2)\n",
    "img_shift_s = np.fft.fftshift(img_fft)\n",
    "mag = np.log2(np.abs(img_shift_s) + 1e-3)\n",
    "\n",
    "cc = np.mean(mag, axis=1)\n",
    "rc = np.mean(mag, axis=0)\n",
    "\n",
    "threshold_rc = (np.max(rc) - np.mean(rc)) * 0.7 + np.mean(rc)\n",
    "threshold_cc = (np.max(cc) - np.mean(cc)) * 0.7 + np.mean(cc)\n",
    "indices_rc = np.argwhere(rc > threshold_rc).flatten()\n",
    "indices_cc = np.argwhere(cc > threshold_cc).flatten()\n",
    "print(indices_rc)\n",
    "print(indices_cc)\n",
    "\n",
    "m1 = cv2.circle(np.ones((img_fft_s.shape[0], img_fft_s.shape[1])), (indices_rc[0], indices_cc[0]), 10, (0, 0, 0), -1)\n",
    "m2 = cv2.circle(np.ones((img_fft_s.shape[0], img_fft_s.shape[1])), (indices_rc[-1], indices_cc[-1]), 10, (0, 0, 0), -1)\n",
    "\n",
    "mag_shw = 20 * np.log(np.abs(img_shift_s * m1 * m2) + 1e-3)\n",
    "plt.subplot(322), plt.imshow(mag_shw, 'gray')\n",
    "\n",
    "hf_img_fft_masked = np.fft.ifftshift(img_shift_s * m1 * m2)\n",
    "hf_img_masked = np.fft.ifft2(hf_img_fft_masked)\n",
    "hf_img_masked = np.abs(hf_img_masked)\n",
    "print(mse(img, hf_img_masked), 'MSE')\n",
    "plt.subplot(323), plt.imshow(hf_img_masked, 'gray')"
   ],
   "metadata": {
    "colab": {
     "base_uri": "https://localhost:8080/",
     "height": 632
    },
    "id": "eCADiVBPfgNL",
    "outputId": "7cbd3acb-b8fa-4ee9-cade-641981d76b9a"
   },
   "execution_count": null,
   "outputs": []
  },
  {
   "cell_type": "markdown",
   "metadata": {
    "id": "M9IiSGNUc3iJ"
   },
   "source": [
    "**3. (10 баллов)**\n",
    "\n",
    "Теперь предложите решение, которое бы работало для любого шума подобной природы. (синусоида некотрой частоты под некоторым углом) Смоделируйте изображение с шумом и предложите универсальный алгоритм, который решит задачу. \n",
    "Тот, у кого по результатам проверки будет наименьшее значение MSE для предлженной картинки, получит призовую шоколадку (раньше мы раздавали призовые баллы, но теперь у нас концепция фиксированного максимального количества баллов)\n",
    "Учтите, что помимо синусоидального шума, могут быть применены другие преобразования яркости.\n",
    "\n",
    "---\n",
    "\n",
    "Уточнение того, что требуется сделать:\n",
    "\n",
    "* написать параметризованный генератор шума, которому можно задать произвольный угол, частоту полос и силу перекрытия, и получить шум с заданными параметрами\n",
    "\n",
    "* усовершенствовать алгоритм из второй задачи, чтобы он работал на произвольных параметрах шума; тут полезно сделать интерактивный виджет, с помощью которого можно менять параметры шума и смотреть как справляется с ним алгоритм; интерактивный виджет проще всего сделать так:\n",
    "\n",
    "    ```python\n",
    "    from ipywidgets import interact\n",
    "\n",
    "    @interact(angle=(0, 360, 1), freq=(1, 64, 1))\n",
    "    def anim_general_solution(angle=45, freq=32):\n",
    "        # visualization code here\n",
    "    ```\n",
    "\n",
    "* после обобщенным алгоритмом отчистить изображение из задачи 2 и посчитать MSE с чистым изображением, по этому MSE и будет конкурс за призовую шоколадку"
   ]
  },
  {
   "cell_type": "markdown",
   "metadata": {
    "id": "dTrmlt6vd2fF"
   },
   "source": [
    "**4. (5 баллов)**\n",
    "\n",
    "Подавите шум на изображении $lena\\_color\\_512\\_noise.tif$. Вычислите среднеквадратичную ошибку ($MSE$) для полученного результата и изображения $lena\\_color\\_512.tif$. Задача будет засчитана при $MSE < 150$. Тот, у кого по результатам проверки будет наименьшее значение $MSE$ среди всех студентов для этой задачи, получит призовую шоколадку."
   ]
  },
  {
   "cell_type": "code",
   "metadata": {
    "colab": {
     "base_uri": "https://localhost:8080/",
     "height": 387
    },
    "id": "Pi-y_9OoecwN",
    "outputId": "3e9f1759-e343-4fe4-aa6d-ea178dae99f6"
   },
   "source": [
    "img_noised = cv2.imread(str(sources_path / \"lena_color_512-noise.tif\"))\n",
    "img_colored = cv2.imread(str(sources_path / \"lena_color_512.tif\"))\n",
    "\n",
    "print(mse(img_noised, img_colored))\n",
    "show_bgr(np.hstack([img_noised, img_colored, np.abs(img_noised - img_colored)]))"
   ],
   "execution_count": 2,
   "outputs": [
    {
     "ename": "NameError",
     "evalue": "name 'cv2' is not defined",
     "output_type": "error",
     "traceback": [
      "\u001B[0;31m---------------------------------------------------------------------------\u001B[0m",
      "\u001B[0;31mNameError\u001B[0m                                 Traceback (most recent call last)",
      "Input \u001B[0;32mIn [2]\u001B[0m, in \u001B[0;36m<cell line: 1>\u001B[0;34m()\u001B[0m\n\u001B[0;32m----> 1\u001B[0m img_noised \u001B[38;5;241m=\u001B[39m \u001B[43mcv2\u001B[49m\u001B[38;5;241m.\u001B[39mimread(\u001B[38;5;28mstr\u001B[39m(sources_path \u001B[38;5;241m/\u001B[39m \u001B[38;5;124m\"\u001B[39m\u001B[38;5;124mlena_color_512-noise.tif\u001B[39m\u001B[38;5;124m\"\u001B[39m))\n\u001B[1;32m      2\u001B[0m img_colored \u001B[38;5;241m=\u001B[39m cv2\u001B[38;5;241m.\u001B[39mimread(\u001B[38;5;28mstr\u001B[39m(sources_path \u001B[38;5;241m/\u001B[39m \u001B[38;5;124m\"\u001B[39m\u001B[38;5;124mlena_color_512.tif\u001B[39m\u001B[38;5;124m\"\u001B[39m))\n\u001B[1;32m      4\u001B[0m \u001B[38;5;28mprint\u001B[39m(mse(img_noised, img_colored))\n",
      "\u001B[0;31mNameError\u001B[0m: name 'cv2' is not defined"
     ]
    }
   ]
  },
  {
   "cell_type": "code",
   "source": [
    "img_noised.shape"
   ],
   "metadata": {
    "colab": {
     "base_uri": "https://localhost:8080/"
    },
    "id": "hAj9mHN0v8HZ",
    "outputId": "c2f9343d-c011-4e40-f337-1aaa9accba1b"
   },
   "execution_count": 3,
   "outputs": [
    {
     "ename": "NameError",
     "evalue": "name 'img_noised' is not defined",
     "output_type": "error",
     "traceback": [
      "\u001B[0;31m---------------------------------------------------------------------------\u001B[0m",
      "\u001B[0;31mNameError\u001B[0m                                 Traceback (most recent call last)",
      "Input \u001B[0;32mIn [3]\u001B[0m, in \u001B[0;36m<cell line: 1>\u001B[0;34m()\u001B[0m\n\u001B[0;32m----> 1\u001B[0m \u001B[43mimg_noised\u001B[49m\u001B[38;5;241m.\u001B[39mshape\n",
      "\u001B[0;31mNameError\u001B[0m: name 'img_noised' is not defined"
     ]
    }
   ]
  },
  {
   "cell_type": "code",
   "source": [
    "# Reading image from folder where it is stored\n",
    "img = np.asarray(copy.copy(img_noised), dtype=np.uint8)\n",
    "# denoising of image saving it into dst image\n",
    "noiseless_image_colored = cv2.fastNlMeansDenoisingColored(img,None,27,27,5,19)\n",
    "  \n",
    "# Plotting of source and destination image\n",
    "plt.subplot(121), plt.imshow(img)\n",
    "plt.subplot(122), plt.imshow(noiseless_image_colored)\n",
    "  \n",
    "plt.show()\n",
    "\n",
    "print(mse(img_colored, noiseless_image_colored)) # 149.545"
   ],
   "metadata": {
    "colab": {
     "base_uri": "https://localhost:8080/",
     "height": 308
    },
    "id": "tyxVKqTgraG-",
    "outputId": "336e2395-e6f7-4a05-db46-58822c3726da"
   },
   "execution_count": 4,
   "outputs": [
    {
     "ename": "NameError",
     "evalue": "name 'np' is not defined",
     "output_type": "error",
     "traceback": [
      "\u001B[0;31m---------------------------------------------------------------------------\u001B[0m",
      "\u001B[0;31mNameError\u001B[0m                                 Traceback (most recent call last)",
      "Input \u001B[0;32mIn [4]\u001B[0m, in \u001B[0;36m<cell line: 2>\u001B[0;34m()\u001B[0m\n\u001B[1;32m      1\u001B[0m \u001B[38;5;66;03m# Reading image from folder where it is stored\u001B[39;00m\n\u001B[0;32m----> 2\u001B[0m img \u001B[38;5;241m=\u001B[39m \u001B[43mnp\u001B[49m\u001B[38;5;241m.\u001B[39masarray(copy\u001B[38;5;241m.\u001B[39mcopy(img_noised), dtype\u001B[38;5;241m=\u001B[39mnp\u001B[38;5;241m.\u001B[39muint8)\n\u001B[1;32m      3\u001B[0m \u001B[38;5;66;03m# denoising of image saving it into dst image\u001B[39;00m\n\u001B[1;32m      4\u001B[0m noiseless_image_colored \u001B[38;5;241m=\u001B[39m cv2\u001B[38;5;241m.\u001B[39mfastNlMeansDenoisingColored(img,\u001B[38;5;28;01mNone\u001B[39;00m,\u001B[38;5;241m27\u001B[39m,\u001B[38;5;241m27\u001B[39m,\u001B[38;5;241m5\u001B[39m,\u001B[38;5;241m19\u001B[39m)\n",
      "\u001B[0;31mNameError\u001B[0m: name 'np' is not defined"
     ]
    }
   ]
  },
  {
   "cell_type": "markdown",
   "metadata": {
    "id": "GXn_-QidfCM1"
   },
   "source": [
    "**5. (5 баллов)**\n",
    "\n",
    "Выделите границы на изображении **cat.jpg**:\n",
    "\n",
    "* при помощи градиента и фильтров собеля\n",
    "* при помощи лапласиана\n",
    "* используя алгоритм $canny$"
   ]
  },
  {
   "cell_type": "code",
   "metadata": {
    "colab": {
     "base_uri": "https://localhost:8080/",
     "height": 536
    },
    "id": "R47DcM7PfHlv",
    "outputId": "66faa39a-812f-4644-c861-cd808e897bec"
   },
   "source": [
    "from scipy.signal import convolve2d\n",
    "img = cv2.imread(str(sources_path / \"cat.jpg\"), 0)\n",
    "show_gray(img)\n",
    "cat = copy.copy(img)"
   ],
   "execution_count": 5,
   "outputs": [
    {
     "ename": "NameError",
     "evalue": "name 'cv2' is not defined",
     "output_type": "error",
     "traceback": [
      "\u001B[0;31m---------------------------------------------------------------------------\u001B[0m",
      "\u001B[0;31mNameError\u001B[0m                                 Traceback (most recent call last)",
      "Input \u001B[0;32mIn [5]\u001B[0m, in \u001B[0;36m<cell line: 2>\u001B[0;34m()\u001B[0m\n\u001B[1;32m      1\u001B[0m \u001B[38;5;28;01mfrom\u001B[39;00m \u001B[38;5;21;01mscipy\u001B[39;00m\u001B[38;5;21;01m.\u001B[39;00m\u001B[38;5;21;01msignal\u001B[39;00m \u001B[38;5;28;01mimport\u001B[39;00m convolve2d\n\u001B[0;32m----> 2\u001B[0m img \u001B[38;5;241m=\u001B[39m \u001B[43mcv2\u001B[49m\u001B[38;5;241m.\u001B[39mimread(\u001B[38;5;28mstr\u001B[39m(sources_path \u001B[38;5;241m/\u001B[39m \u001B[38;5;124m\"\u001B[39m\u001B[38;5;124mcat.jpg\u001B[39m\u001B[38;5;124m\"\u001B[39m), \u001B[38;5;241m0\u001B[39m)\n\u001B[1;32m      3\u001B[0m show_gray(img)\n\u001B[1;32m      4\u001B[0m cat \u001B[38;5;241m=\u001B[39m copy\u001B[38;5;241m.\u001B[39mcopy(img)\n",
      "\u001B[0;31mNameError\u001B[0m: name 'cv2' is not defined"
     ]
    }
   ]
  },
  {
   "cell_type": "code",
   "source": [
    "# to speed up the process\n",
    "\n",
    "cat_resized = cv2.resize(cat, (150, 150))\n",
    "# plt.imshow(cat_resized, 'gray')\n",
    "cat_resized.shape"
   ],
   "metadata": {
    "colab": {
     "base_uri": "https://localhost:8080/"
    },
    "id": "ZaEKdCK92ssj",
    "outputId": "7dcafb1c-586a-4514-8882-047df19f591a"
   },
   "execution_count": null,
   "outputs": []
  },
  {
   "cell_type": "code",
   "source": [
    "# Градиент and sobel\n",
    "y = np.array([[1, 2, 1],\n",
    "               [0, 0, 0],\n",
    "               [-1, -2, -1]])\n",
    "\n",
    "x = y.T\n",
    "\n",
    "gx = convolve2d(x, cat_resized)\n",
    "gy = convolve2d(y, cat_resized)\n",
    "\n",
    "mag = np.sqrt(gx ** 2 + gy ** 2)\n",
    "theta = np.arctan(gy / gx)\n",
    "plt.subplot(121), plt.imshow(mag, 'gray')\n",
    "# plt.subplot(122), plt.imshow(theta, 'gray')"
   ],
   "metadata": {
    "colab": {
     "base_uri": "https://localhost:8080/",
     "height": 375
    },
    "id": "DvzDXFPsyxE7",
    "outputId": "6a0ea6d2-68a1-4ab8-d420-50d0688c71e6"
   },
   "execution_count": null,
   "outputs": []
  },
  {
   "cell_type": "code",
   "source": [
    "# Лаплассиан\n",
    "l = np.ones((3, 3)); l[1][1] = -8\n",
    "gx = convolve2d(l, cat_resized)\n",
    "plt.subplot(121), plt.imshow(gx, 'gray')"
   ],
   "metadata": {
    "colab": {
     "base_uri": "https://localhost:8080/",
     "height": 307
    },
    "id": "OTf517l60-qz",
    "outputId": "4ce7e8bd-7449-43b8-8a49-06e028f2aa1e"
   },
   "execution_count": null,
   "outputs": []
  },
  {
   "cell_type": "code",
   "source": [
    "# canny\n",
    "edges = cv.Canny(cat_resized,100,200)\n",
    "plt.imshow(edges, 'gray')"
   ],
   "metadata": {
    "colab": {
     "base_uri": "https://localhost:8080/",
     "height": 451
    },
    "id": "YeGMFbb31hYG",
    "outputId": "8a7051f9-6bca-4588-b684-98f56db877c6"
   },
   "execution_count": null,
   "outputs": []
  }
 ]
}
